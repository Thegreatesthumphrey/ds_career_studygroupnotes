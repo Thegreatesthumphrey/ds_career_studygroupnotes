{
 "cells": [
  {
   "cell_type": "markdown",
   "metadata": {},
   "source": [
    "# M03S29 - Intro to Logistic Models"
   ]
  },
  {
   "cell_type": "markdown",
   "metadata": {},
   "source": [
    "## Objectives"
   ]
  },
  {
   "cell_type": "markdown",
   "metadata": {},
   "source": [
    "* Explain derivation and function of logistic models\n",
    "* Explain ROC/AUC as evaluation metrics for logistic models\n",
    "* Understand problem of imbalanced classes and techniques used to solve it"
   ]
  },
  {
   "cell_type": "markdown",
   "metadata": {},
   "source": [
    "# Logistic Models\n",
    "\n",
    "logistic regression - binary classifier model\n",
    "\n",
    "    * not good for multi-class problems\n",
    "    * great for 2 class problems\n",
    "\n",
    "    What kinds of problems are logistic models used for? - classification (supervised)\n",
    "    \n",
    "    How is a logistic model related to linear model? - logistic is a binarizing transform of a linear model, transform = passing one function to another\n",
    "\n",
    "$$ \\text{income} = \\beta_0 + \\beta_1 \\text{age} $$ --> $$ P(\\text{income} > 4000) = \\displaystyle \\frac{1}{1+e^{-(\\hat \\beta_0+\\hat \\beta_1 \\text{age})}}$$\n",
    "\n",
    "$$ \\dfrac{P(\\text{income} > 4000)}{P(\\text{income} < 4000)} = e^{\\hat \\beta_0+\\hat \\beta_1 \\text{age}} $$\n"
   ]
  },
  {
   "cell_type": "markdown",
   "metadata": {},
   "source": [
    "## ROC/AUC"
   ]
  },
  {
   "cell_type": "markdown",
   "metadata": {},
   "source": [
    "**Definitions**\n",
    "\n",
    "ROC (Receiving Operations Characteristc) Curve - graphs FP rate vs TP rate \n",
    "\n",
    "AUC (Area Under Curve ) - metric to compare FP vs TP, accuracy of ROC"
   ]
  },
  {
   "cell_type": "markdown",
   "metadata": {},
   "source": [
    "## Class Imbalance"
   ]
  },
  {
   "cell_type": "markdown",
   "metadata": {},
   "source": [
    "**Definitions**\n",
    "\n",
    " What is class imbalance? - disproportionate class ratio\n",
    " \n",
    " Why is class imbalance a problem? - reduces model utility due to lack of sufficient data for one of the classes\n",
    " \n",
    " What are the techniques for countering class imbalance problems?\n",
    "     1. Resample with replacement - duplicating data from sparse class\n",
    "     2. Over/undersampling - duplicating data from sparse class\n",
    "     3. Class Weighting - scales data inverse to proportion of class\n",
    "     4. SMOTE (Synthetic Minority Oversampling) - creates synthetic data based on sparse class"
   ]
  },
  {
   "cell_type": "code",
   "execution_count": null,
   "metadata": {},
   "outputs": [],
   "source": []
  }
 ],
 "metadata": {
  "kernelspec": {
   "display_name": "Python 3",
   "language": "python",
   "name": "python3"
  },
  "language_info": {
   "codemirror_mode": {
    "name": "ipython",
    "version": 3
   },
   "file_extension": ".py",
   "mimetype": "text/x-python",
   "name": "python",
   "nbconvert_exporter": "python",
   "pygments_lexer": "ipython3",
   "version": "3.7.1"
  },
  "toc": {
   "base_numbering": 1,
   "nav_menu": {},
   "number_sections": true,
   "sideBar": true,
   "skip_h1_title": false,
   "title_cell": "Table of Contents",
   "title_sidebar": "Contents",
   "toc_cell": false,
   "toc_position": {},
   "toc_section_display": true,
   "toc_window_display": false
  },
  "varInspector": {
   "cols": {
    "lenName": 16,
    "lenType": 16,
    "lenVar": 40
   },
   "kernels_config": {
    "python": {
     "delete_cmd_postfix": "",
     "delete_cmd_prefix": "del ",
     "library": "var_list.py",
     "varRefreshCmd": "print(var_dic_list())"
    },
    "r": {
     "delete_cmd_postfix": ") ",
     "delete_cmd_prefix": "rm(",
     "library": "var_list.r",
     "varRefreshCmd": "cat(var_dic_list()) "
    }
   },
   "types_to_exclude": [
    "module",
    "function",
    "builtin_function_or_method",
    "instance",
    "_Feature"
   ],
   "window_display": false
  }
 },
 "nbformat": 4,
 "nbformat_minor": 2
}
