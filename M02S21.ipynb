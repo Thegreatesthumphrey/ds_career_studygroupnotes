{
 "cells": [
  {
   "cell_type": "markdown",
   "metadata": {},
   "source": [
    "# STUDY GROUP - M02S21\n",
    "## Combinatorics & Maximum Liklihood Estimation"
   ]
  },
  {
   "cell_type": "markdown",
   "metadata": {},
   "source": [
    "### Objectives\n",
    "You will be able to:\n",
    "* Understand Baye's Theorem\n",
    "* Understand ML Estimation vs MAP Estimation\n",
    "* Discuss Bayesian vs Frequentist approaches"
   ]
  },
  {
   "cell_type": "markdown",
   "metadata": {},
   "source": [
    "### Conditional Probability"
   ]
  },
  {
   "cell_type": "markdown",
   "metadata": {},
   "source": [
    "Conditional Probability emerges in the examination of experiments where a result of a trial may influence the results of the upcoming trials.\n",
    "\n",
    "**Complement of an Event**\n",
    "* P(A) + P(A') = 1\n",
    "* Similarly P(A|B) + P(A'|B) = 1\n",
    "\n",
    "**Product Rule**\n",
    "P(A∩B)=P(B)P(A|B)=P(A)P(B|A)\n",
    "\n",
    "**Chain Rule**\n",
    "if  C1,C2,...,CmC1,C2,...,Cm  are disjoint events such that  C1∪C2∪···∪Cm=ΩC1∪C2∪···∪Cm=Ω  the probability of an arbitrary event can be expressed as:\n",
    "\n",
    "P(A)=P(A|C1)P(C1)+P(A|C2)P(C2)+···+P(A|Cm)P(Cm)"
   ]
  },
  {
   "cell_type": "markdown",
   "metadata": {},
   "source": [
    "### Partitioning & The Law of Total Probabilities"
   ]
  },
  {
   "cell_type": "markdown",
   "metadata": {},
   "source": [
    "* In probability theory, the law (or formula) of total probability is a fundamental rule relating marginal probabilities to conditional probabilities. It expresses the total probability of an outcome which can be realized via several distinct events, hence the name.\n",
    "\n",
    "* The total probability law allows us to break up probability calculations into distinct parts. It’s used to find the probability of an event, A, when you don’t know enough about A’s probabilities to calculate it directly. Instead, you take a related event, B, and use that to calculate the probability for A.\n",
    "\n",
    "* A partition of a set $X$ is a collection of subsets $Xi \\in X$ so that every element $x \\in X$ occurs in exactly one of the $Xi$.\n",
    "\n",
    "$$P(A)=P(A|B)P(B)+P(A|Bc)P(Bc)$$\n",
    "\n",
    "If B1,B2,B3,⋯ is a partition of the sample space S, then for any event A we have\n",
    "\n",
    "$$P(A)=∑_iP(A∩Bi)=∑_iP(A|Bi)P(Bi)$$"
   ]
  },
  {
   "cell_type": "markdown",
   "metadata": {},
   "source": [
    "### Bayes Theorem"
   ]
  },
  {
   "cell_type": "markdown",
   "metadata": {},
   "source": [
    "P(A|B)=P(B|A)P(A)/P(B)\n",
    "\n",
    "Prior: P(A)\n",
    "Likelihood: P(B|A), not a probability, but it is proportional to a probability\n",
    "\n",
    "Posterior: P(A|B), the revised probability of an event occurring after taking into consideration new information\n",
    "\n",
    "* Prior probability represents what is originally believed before new evidence is introduced, and posterior probability takes this new information into account.\n",
    "\n",
    "Sensitivity is the true positive rate. It is a measure of the proportion of correctly identified positives.\n",
    "\n",
    "Specificity is the true negative rate. It measures the proportion of correctly identified negatives."
   ]
  },
  {
   "cell_type": "markdown",
   "metadata": {},
   "source": [
    "### Maximum Liklihood (ML) Estimation, Maximum A Posteriori (MAP) Estimation, Conjuagate Prior Distributions"
   ]
  },
  {
   "cell_type": "markdown",
   "metadata": {},
   "source": [
    "https://towardsdatascience.com/probability-concepts-explained-bayesian-inference-for-parameter-estimation-90e8930e5348"
   ]
  },
  {
   "cell_type": "code",
   "execution_count": null,
   "metadata": {},
   "outputs": [],
   "source": []
  }
 ],
 "metadata": {
  "kernelspec": {
   "display_name": "Python 3",
   "language": "python",
   "name": "python3"
  },
  "language_info": {
   "codemirror_mode": {
    "name": "ipython",
    "version": 3
   },
   "file_extension": ".py",
   "mimetype": "text/x-python",
   "name": "python",
   "nbconvert_exporter": "python",
   "pygments_lexer": "ipython3",
   "version": "3.7.1"
  }
 },
 "nbformat": 4,
 "nbformat_minor": 2
}
