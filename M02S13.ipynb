{
 "cells": [
  {
   "cell_type": "markdown",
   "metadata": {},
   "source": [
    "# STUDY GROUP - M02S13\n",
    "## Linear Algebra"
   ]
  },
  {
   "cell_type": "markdown",
   "metadata": {},
   "source": [
    "### Objectives\n",
    "You will be able to:\n",
    "* Understand why knowledge of linear algebra is important to data science\n",
    "* Understand different types of tensors: scalars, vectors, matrices \n",
    "* Understand matrix dot product, multiplication "
   ]
  },
  {
   "cell_type": "markdown",
   "metadata": {},
   "source": [
    "### Why Linear Algebra"
   ]
  },
  {
   "cell_type": "code",
   "execution_count": null,
   "metadata": {},
   "outputs": [],
   "source": []
  },
  {
   "cell_type": "markdown",
   "metadata": {},
   "source": [
    "### Tensors"
   ]
  },
  {
   "cell_type": "markdown",
   "metadata": {},
   "source": [
    "scalar - \n",
    "\n",
    "vector - \n",
    "\n",
    "tensor - "
   ]
  },
  {
   "cell_type": "markdown",
   "metadata": {},
   "source": [
    "### Matrix Dot Product"
   ]
  },
  {
   "cell_type": "code",
   "execution_count": 5,
   "metadata": {},
   "outputs": [
    {
     "name": "stdout",
     "output_type": "stream",
     "text": [
      "A: [[2 3]\n",
      " [6 5]]\n",
      "At: [[2 6]\n",
      " [3 5]]\n",
      "Does A == At?: [[ True False]\n",
      " [False  True]]\n"
     ]
    }
   ],
   "source": [
    "import numpy as np \n",
    "\n",
    "A = np.array([[2, 3], [6, 5]])\n",
    "B = np.array([[5, 3], [2, 2]])\n",
    "\n",
    "left = A.dot(B)\n",
    "right = B.dot(A)\n",
    "At = np.transpose(A)\n",
    "\n",
    "# print (left)\n",
    "# print(right)\n",
    "\n",
    "#left == right\n",
    "print('A:', A)\n",
    "print('At:', At)\n",
    "print('Does A == At?:', A == At)"
   ]
  },
  {
   "cell_type": "code",
   "execution_count": 11,
   "metadata": {},
   "outputs": [
    {
     "name": "stdout",
     "output_type": "stream",
     "text": [
      "A: [[2 3]\n",
      " [1 4]\n",
      " [7 6]]\n",
      "shape of A (3, 2)\n",
      "B: [[5 3]\n",
      " [2 2]]\n",
      "shape of B (2, 2)\n",
      "C: [[4]\n",
      " [3]]\n",
      "shape of C (2, 1)\n"
     ]
    },
    {
     "data": {
      "text/plain": [
       "array([[ True],\n",
       "       [ True],\n",
       "       [ True]])"
      ]
     },
     "execution_count": 11,
     "metadata": {},
     "output_type": "execute_result"
    }
   ],
   "source": [
    "A = np.array([[2, 3], [1, 4], [7, 6]])\n",
    "print('A:', A)\n",
    "print('shape of A', A.shape)\n",
    "B = B = np.array([[5, 3], [2, 2]])\n",
    "print('B:', B)\n",
    "print('shape of B', B.shape)\n",
    "C = np.array([[4], [3]])\n",
    "print('C:', C)\n",
    "print('shape of C', C.shape)\n",
    "left = A.dot(B.dot(C))\n",
    "right = (A.dot(B)).dot(C)\n",
    "\n",
    "left == right"
   ]
  },
  {
   "cell_type": "code",
   "execution_count": null,
   "metadata": {},
   "outputs": [],
   "source": []
  }
 ],
 "metadata": {
  "kernelspec": {
   "display_name": "Python 3",
   "language": "python",
   "name": "python3"
  },
  "language_info": {
   "codemirror_mode": {
    "name": "ipython",
    "version": 3
   },
   "file_extension": ".py",
   "mimetype": "text/x-python",
   "name": "python",
   "nbconvert_exporter": "python",
   "pygments_lexer": "ipython3",
   "version": "3.7.1"
  }
 },
 "nbformat": 4,
 "nbformat_minor": 2
}
