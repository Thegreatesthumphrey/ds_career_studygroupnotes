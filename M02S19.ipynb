{
 "cells": [
  {
   "cell_type": "markdown",
   "metadata": {},
   "source": [
    "# STUDY GROUP - M02S19\n",
    "## Distributions & Sampling"
   ]
  },
  {
   "cell_type": "markdown",
   "metadata": {},
   "source": [
    "### Objectives\n",
    "You will be able to:\n",
    "* Understand and explain why statistical distributions are useful to data scientists\n",
    "* Understand and explain the uses of the different distribution functions\n",
    "* Explain Central Limit Theorem\n"
   ]
  },
  {
   "cell_type": "markdown",
   "metadata": {},
   "source": [
    "### Statistical Distibutions"
   ]
  },
  {
   "cell_type": "markdown",
   "metadata": {},
   "source": [
    "#### Uniform, Normal, Binomial Distributions\n",
    "**uniform distribution** - describes an event where every possible outcome is equally likely. No single outcome carries any more or less probability of happening than any other possible outcome. The Uniform Distribution can be discrete or continuous.\n",
    "\n",
    "**normal distribution** - normal distribution is for continous-valued distributions\n",
    "\n",
    "**An example question we can answer with the Normal Distribution is \"what percentage of people are at least 2 inches shorter than the global average hieght?\"**\n",
    "\n",
    "**binomial distribution** - discrete version of the normal distribution, describes the probability distribution for a of a given number of successes in a set of repeated Benoulli Trials, also known as a Binomial Experiment. \n",
    "* describes the number of successes  k  achieved in  n  trials, where the probability of success is  p \n",
    "* Recall that Binomial Experiments have the following constraints:\n",
    "\n",
    "    1. Each experiment consists of  n  repeated trials.\n",
    "\n",
    "    2. The outcome of each trial is binary, resulting in either success or failure (it doesn't matter which outcome we label as success or failure, just that we're able to assign the labels).\n",
    "\n",
    "    3. The probability  p  of a given outcome is the same on every trial.\n",
    "\n",
    "    4. The trials are independent. The results of a given trial are not influenced by prior trial results, and will not influence future trial results in turn.\n",
    "    \n",
    "**An example question we could answer with the Binomial Distribution is \"if I flip a fair coin 5 times, what is the probability that exactly 2 of those flips lands on heads?\"**\n",
    "\n",
    "#### Negative Binomial Distribution\n",
    "**negative binomial distribution** -  discree distribution which allows us to easily describe the probability distribution of the different ways a Negative Binomial Trial could work out, \n",
    "* describes the number of successes  k  until observing a pre-determined number of failures  r  where the probability of success for each independent trail is  p "
   ]
  },
  {
   "cell_type": "code",
   "execution_count": 1,
   "metadata": {},
   "outputs": [
    {
     "name": "stdout",
     "output_type": "stream",
     "text": [
      "1 wells drilled, probability of success: 0.9971%\n",
      "2 wells drilled, probability of success: 1.8962%\n",
      "3 wells drilled, probability of success: 2.7071%\n",
      "4 wells drilled, probability of success: 3.4571%\n",
      "5 wells drilled, probability of success: 4.1191%\n",
      "6 wells drilled, probability of success: 4.7089%\n",
      "7 wells drilled, probability of success: 5.2417%\n",
      "8 wells drilled, probability of success: 5.7134%\n",
      "9 wells drilled, probability of success: 6.1416%\n",
      "10 wells drilled, probability of success: 6.5389%\n"
     ]
    }
   ],
   "source": [
    "import numpy as np\n",
    "\n",
    "s = np.random.negative_binomial(1, 0.1, 100000)\n",
    "for i in range(1, 11):\n",
    "    probability = sum(s<i) / 1000000\n",
    "    print(\"{} wells drilled, probability of success: {:.4f}%\".format(i, probability * 100))"
   ]
  },
  {
   "cell_type": "markdown",
   "metadata": {},
   "source": [
    "#### Geometric Distribution\n",
    "**geometric distribution** - discrete probability distribution that helps us calculate the probability distribution of repeated independent events, **special case of the Negative Binomial Distribution**\n",
    "\n",
    "**\"What is the probability that I can flip a coin X times before it lands on tails?\"**"
   ]
  },
  {
   "cell_type": "code",
   "execution_count": 2,
   "metadata": {},
   "outputs": [
    {
     "data": {
      "text/plain": [
       "0.125"
      ]
     },
     "execution_count": 2,
     "metadata": {},
     "output_type": "execute_result"
    }
   ],
   "source": [
    "def geom_prob(p, x):\n",
    "    q = 1 - p\n",
    "    ex = x - 1\n",
    "    return q**ex * p\n",
    "\n",
    "# Let's test that it works\n",
    "geom_prob(0.5, 3) # Expected Output 0.125"
   ]
  },
  {
   "cell_type": "code",
   "execution_count": 3,
   "metadata": {},
   "outputs": [
    {
     "name": "stdout",
     "output_type": "stream",
     "text": [
      "Probability of roulette landing on red 1 times in a row: 47.40000%\n",
      "Probability of roulette landing on red 2 times in a row: 24.93240%\n",
      "Probability of roulette landing on red 3 times in a row: 13.11444%\n",
      "Probability of roulette landing on red 4 times in a row: 6.89820%\n",
      "Probability of roulette landing on red 5 times in a row: 3.62845%\n",
      "Probability of roulette landing on red 6 times in a row: 1.90857%\n",
      "Probability of roulette landing on red 7 times in a row: 1.00391%\n",
      "Probability of roulette landing on red 8 times in a row: 0.52805%\n",
      "Probability of roulette landing on red 9 times in a row: 0.27776%\n",
      "Probability of roulette landing on red 10 times in a row: 0.14610%\n"
     ]
    }
   ],
   "source": [
    "for x in range(1, 11):\n",
    "    p = 0.474\n",
    "    print(\"Probability of roulette landing on red {} times in a row: {:.5f}%\".format(x, geom_prob(p, x) * 100))"
   ]
  },
  {
   "cell_type": "markdown",
   "metadata": {},
   "source": [
    "#### Poisson Distibution\n",
    "**Poisson Distribution** -  allows us to calculate the probability of a given event happening by examining the mean number of events that happen in a given time period\n",
    "\n",
    "#### Exponential Distribution\n",
    "**Exponential Distribution** - describes the probability distribution of the amount of time it may take before an event occurs. In a way, it solves the **inverse** of the problem solves by the Poisson Distribution, **continuous analogue of the Geometric Distribution**\n",
    "\n",
    "The Poisson Distribution lets us ask how likely any given number of events are over a set interval of time.\n",
    "\n",
    "The Exponential Distribution lets us ask how likely the length of an interval of time is before an event occurs exactly once.\n",
    "\n",
    "**How long before a sensor in this factory breaks down?**\n",
    "**How long until the next earthquake happens?**\n",
    "**How long will the next customer interaction take?**\n",
    "**How long until the next person visits my website?**"
   ]
  },
  {
   "cell_type": "markdown",
   "metadata": {},
   "source": [
    "### Sampling"
   ]
  },
  {
   "cell_type": "markdown",
   "metadata": {},
   "source": [
    "#### Central Limit Theorem\n",
    "Rarely, if ever, are we able to completely survey a population of interest. Similarly, we will often deal with missing data. Whatever it may be, whether estimating asthma rates, fish populations, daily temperatures, material volumes, risk, manufacturing defects or any other measurement of unknown or large scale quantities, we are unlikely to have complete information of the system in question. As a result, we do our best by taking samples and using these to estimate the corresponding measurements for the complete population, from which we took the sample. These estimates of population parameters are known as point estimates. Interestingly, point estimates of specific parameters of a population have predictable behaviors, in that the point estimates themselves will form specific probability distributions. \n",
    "\n",
    "**central limit theorem** - states that under many conditions, independent random variables summed together will converge to a normal distribution as the number of variables increases\n",
    "#### Confidence Intervals\n",
    "\n"
   ]
  },
  {
   "cell_type": "markdown",
   "metadata": {},
   "source": []
  }
 ],
 "metadata": {
  "kernelspec": {
   "display_name": "Python 3",
   "language": "python",
   "name": "python3"
  },
  "language_info": {
   "codemirror_mode": {
    "name": "ipython",
    "version": 3
   },
   "file_extension": ".py",
   "mimetype": "text/x-python",
   "name": "python",
   "nbconvert_exporter": "python",
   "pygments_lexer": "ipython3",
   "version": "3.7.1"
  }
 },
 "nbformat": 4,
 "nbformat_minor": 2
}
