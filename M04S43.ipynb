{
 "cells": [
  {
   "cell_type": "markdown",
   "metadata": {},
   "source": [
    "# STUDY GROUP - M04S44\n",
    "## CNNs Continued: Using Pretrained Netwrks"
   ]
  },
  {
   "cell_type": "markdown",
   "metadata": {},
   "source": [
    "### Objectives\n",
    "\n",
    "You will be able to:\n",
    "* explain why using a convolutional base/pretrained network can be useful\n",
    "* describe the architecture of a pre-trained network\n",
    "* describe different use cases between feature extraction and filtering with convolutional base\n"
   ]
  },
  {
   "cell_type": "markdown",
   "metadata": {},
   "source": [
    "### Pretrained Networks\n",
    "\n",
    "When would using a convolutional base/pretrained network help us in using CNNs?\n",
    "   * \n",
    "\n",
    "What is a pretrained network? \n",
    "   * network previously run on large, general dataset and saved\n",
    "   * hierarchical features of pretrained network can serve as generic model used for wide variety of computer vision tasks\n",
    "\n",
    "What sorts of features are detected in early layers of CNN? What sorts of features are in final layers of CNN? Which layers are more generic/reusable?\n",
    "   * early layers - \n",
    "   * later layers - \n",
    "\n",
    "Do we want to use all the layers of a convolutional base as our generic model or just some? If just some, would we want to use top layers, bottom layers, or middle layers? Why?\n",
    "   * blank\n",
    "\n",
    "**Feature Extraction**\n",
    "\n",
    "def - use representations learned by previous network to extract interesting features from new samples. this new data is then run through a classifier from scratch\n",
    "\n",
    "**Filtering**\n",
    "\n",
    "def - unfreeze densely connected top layers from base model and train with densely connected layers from new model to make new model more relevant for new classification problem\n"
   ]
  },
  {
   "cell_type": "markdown",
   "metadata": {},
   "source": [
    "\n"
   ]
  },
  {
   "cell_type": "markdown",
   "metadata": {},
   "source": []
  }
 ],
 "metadata": {
  "kernelspec": {
   "display_name": "Python 3",
   "language": "python",
   "name": "python3"
  },
  "language_info": {
   "codemirror_mode": {
    "name": "ipython",
    "version": 3
   },
   "file_extension": ".py",
   "mimetype": "text/x-python",
   "name": "python",
   "nbconvert_exporter": "python",
   "pygments_lexer": "ipython3",
   "version": "3.7.1"
  }
 },
 "nbformat": 4,
 "nbformat_minor": 2
}
