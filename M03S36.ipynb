{
 "cells": [
  {
   "cell_type": "markdown",
   "metadata": {},
   "source": [
    "# STUDY GROUP - M03S36\n",
    "## Pipelines"
   ]
  },
  {
   "cell_type": "markdown",
   "metadata": {},
   "source": [
    "### Objectives\n",
    "\n",
    "You will be able to:\n",
    "* understand Machine Learning Maxims (MLM)\n",
    "* understand concept of Pipelining and how it relates to MLM\n",
    "* understand how to organize code for ease of use and reproducibility"
   ]
  },
  {
   "cell_type": "markdown",
   "metadata": {},
   "source": [
    "### Pipelines\n",
    "\n",
    "What are the steps in a machine learning workflow? \n",
    "* data cleaning\n",
    "* EDA\n",
    "* feature selection/engineering/reduction (PCA)\n",
    "* model running/selection\n",
    "* evaulation & interpretation\n",
    "\n",
    "### Machine Learning Maxims \n",
    "\n",
    "**Better data beats fancier algoritms**\n",
    "\n",
    "**Algorithms are commodities**\n",
    "\n",
    "**Overfitting is the Devil!**\n",
    "\n",
    "Why use a pipeline? - set of sequential steps for data transfromation and model training/selection\n",
    "\n",
    "How would a pipeline help us honor our Machine Learning Maxims? - standardization in process which facilitates honoring of maxims"
   ]
  },
  {
   "cell_type": "markdown",
   "metadata": {},
   "source": [
    "### GridSearch and Cross Validation\n",
    "\n",
    "Now that we're tuning models, how does this affect our cross-validation? - \n",
    "\n"
   ]
  },
  {
   "cell_type": "markdown",
   "metadata": {},
   "source": [
    "### Now for an example..."
   ]
  },
  {
   "cell_type": "code",
   "execution_count": 11,
   "metadata": {},
   "outputs": [],
   "source": [
    "# numpy and pandas for data manipulation\n",
    "import numpy as np\n",
    "import pandas as pd\n",
    "pd.set_option('display.max_columns', 100)\n",
    "\n",
    "# visualization libraries\n",
    "import matplotlib.pyplot as plt\n",
    "%matplotlib inline \n",
    "import seaborn as sns\n",
    "\n",
    "# sklearn and appropriate algorithms to choose between\n",
    "import sklearn\n",
    "from sklearn.linear_model import LogisticRegression\n",
    "from sklearn.ensemble import RandomForestClassifier, GradientBoostingClassifier\n",
    "\n",
    "# model selection, data processing\n",
    "from sklearn.model_selection import train_test_split \n",
    "from sklearn.pipeline import make_pipeline\n",
    "from sklearn.preprocessing import StandardScaler\n",
    "from sklearn.model_selection import GridSearchCV\n",
    "\n",
    "# Evaluation metrics, classification\n",
    "from sklearn.metrics import roc_curve, auc, confusion_matrix\n",
    "\n",
    "# # Pickle for saving model files\n",
    "# import pickle\n"
   ]
  },
  {
   "cell_type": "code",
   "execution_count": 15,
   "metadata": {},
   "outputs": [
    {
     "name": "stdout",
     "output_type": "stream",
     "text": [
      "<class 'pandas.core.frame.DataFrame'>\n",
      "RangeIndex: 14068 entries, 0 to 14067\n",
      "Data columns (total 26 columns):\n",
      "avg_monthly_hrs            14068 non-null int64\n",
      "filed_complaint            14068 non-null float64\n",
      "last_evaluation            14068 non-null float64\n",
      "n_projects                 14068 non-null int64\n",
      "recently_promoted          14068 non-null float64\n",
      "satisfaction               14068 non-null float64\n",
      "status                     14068 non-null int64\n",
      "tenure                     14068 non-null float64\n",
      "last_evaluation_missing    14068 non-null int64\n",
      "underperformer             14068 non-null int64\n",
      "unhappy                    14068 non-null int64\n",
      "overachiever               14068 non-null int64\n",
      "department_IT              14068 non-null int64\n",
      "department_Missing         14068 non-null int64\n",
      "department_admin           14068 non-null int64\n",
      "department_engineering     14068 non-null int64\n",
      "department_finance         14068 non-null int64\n",
      "department_management      14068 non-null int64\n",
      "department_marketing       14068 non-null int64\n",
      "department_procurement     14068 non-null int64\n",
      "department_product         14068 non-null int64\n",
      "department_sales           14068 non-null int64\n",
      "department_support         14068 non-null int64\n",
      "salary_high                14068 non-null int64\n",
      "salary_low                 14068 non-null int64\n",
      "salary_medium              14068 non-null int64\n",
      "dtypes: float64(5), int64(21)\n",
      "memory usage: 2.8 MB\n"
     ]
    }
   ],
   "source": [
    "# import cleaned data\n",
    "df = pd.read_csv('backup_analytical_base_table.csv')\n",
    "\n",
    "df.head()\n",
    "df.info()"
   ]
  },
  {
   "cell_type": "code",
   "execution_count": 16,
   "metadata": {},
   "outputs": [],
   "source": [
    "# split dataset\n",
    "y = df.status\n",
    "X = df.drop('status', axis=1)\n",
    "\n",
    "X_train, X_test, y_train, y_test = train_test_split(X, y, test_size = 0.2, random_state=123)"
   ]
  },
  {
   "cell_type": "code",
   "execution_count": 18,
   "metadata": {},
   "outputs": [],
   "source": [
    "# build pipelines\n",
    "\n",
    "# model pipelines \n",
    "pipelines = {'l1': make_pipeline(StandardScaler(),\n",
    "                                LogisticRegression(penalty='l1', random_state=123)),\n",
    "             'l2': make_pipeline(StandardScaler(),\n",
    "                                LogisticRegression(penalty='l2', random_state=123)),\n",
    "             'rf': make_pipeline(StandardScaler(),\n",
    "                                RandomForestClassifier(random_state=123)),\n",
    "             'gb': make_pipeline(StandardScaler(),\n",
    "                                GradientBoostingClassifier(random_state=123))\n",
    "            }\n"
   ]
  },
  {
   "cell_type": "code",
   "execution_count": 20,
   "metadata": {},
   "outputs": [],
   "source": [
    "# declare hyperparameters\n",
    "# research proper range for each hyperparameter to allow for best performance in GridSearchCV\n",
    "l1_hp = {'logisticregression__C': np.linspace(1e-3, 1e3, 10)}\n",
    "l2_hp = {'logisticregression__C': np.linspace(1e-3, 1e3, 10)}\n",
    "rf_hp = {\n",
    "    'randomforestclassifier__n_estimators': [100, 200],\n",
    "    'randomforestclassifier__max_features': ['auto', 'sqrt', 0.33]\n",
    "    }\n",
    "gb_hp = {\n",
    "    'gradientboostingclassifier__n_estimators': [100, 200],\n",
    "    'gradientboostingclassifier__learning_rate': [0.05, 0.1, 0.2],\n",
    "    'gradientboostingclassifier__max_depth': [1, 3, 5]\n",
    "    }\n",
    "\n",
    "hyperparameters = {'l1': l1_hp,\n",
    "                   'l2': l2_hp,\n",
    "                   'rf': rf_hp,\n",
    "                   'gb': gb_hp\n",
    "                  }"
   ]
  },
  {
   "cell_type": "code",
   "execution_count": 22,
   "metadata": {},
   "outputs": [
    {
     "name": "stderr",
     "output_type": "stream",
     "text": [
      "/Users/blewis2/anaconda3/lib/python3.7/site-packages/sklearn/preprocessing/data.py:625: DataConversionWarning: Data with input dtype int64, float64 were all converted to float64 by StandardScaler.\n",
      "  return self.partial_fit(X, y)\n",
      "/Users/blewis2/anaconda3/lib/python3.7/site-packages/sklearn/base.py:465: DataConversionWarning: Data with input dtype int64, float64 were all converted to float64 by StandardScaler.\n",
      "  return self.fit(X, y, **fit_params).transform(X)\n",
      "/Users/blewis2/anaconda3/lib/python3.7/site-packages/sklearn/linear_model/logistic.py:433: FutureWarning: Default solver will be changed to 'lbfgs' in 0.22. Specify a solver to silence this warning.\n",
      "  FutureWarning)\n"
     ]
    },
    {
     "name": "stdout",
     "output_type": "stream",
     "text": [
      "l1 has been fitted.\n"
     ]
    },
    {
     "name": "stderr",
     "output_type": "stream",
     "text": [
      "/Users/blewis2/anaconda3/lib/python3.7/site-packages/sklearn/preprocessing/data.py:625: DataConversionWarning: Data with input dtype int64, float64 were all converted to float64 by StandardScaler.\n",
      "  return self.partial_fit(X, y)\n",
      "/Users/blewis2/anaconda3/lib/python3.7/site-packages/sklearn/base.py:465: DataConversionWarning: Data with input dtype int64, float64 were all converted to float64 by StandardScaler.\n",
      "  return self.fit(X, y, **fit_params).transform(X)\n",
      "/Users/blewis2/anaconda3/lib/python3.7/site-packages/sklearn/linear_model/logistic.py:433: FutureWarning: Default solver will be changed to 'lbfgs' in 0.22. Specify a solver to silence this warning.\n",
      "  FutureWarning)\n"
     ]
    },
    {
     "name": "stdout",
     "output_type": "stream",
     "text": [
      "l2 has been fitted.\n"
     ]
    },
    {
     "name": "stderr",
     "output_type": "stream",
     "text": [
      "/Users/blewis2/anaconda3/lib/python3.7/site-packages/sklearn/preprocessing/data.py:625: DataConversionWarning: Data with input dtype int64, float64 were all converted to float64 by StandardScaler.\n",
      "  return self.partial_fit(X, y)\n",
      "/Users/blewis2/anaconda3/lib/python3.7/site-packages/sklearn/base.py:465: DataConversionWarning: Data with input dtype int64, float64 were all converted to float64 by StandardScaler.\n",
      "  return self.fit(X, y, **fit_params).transform(X)\n"
     ]
    },
    {
     "name": "stdout",
     "output_type": "stream",
     "text": [
      "rf has been fitted.\n"
     ]
    },
    {
     "name": "stderr",
     "output_type": "stream",
     "text": [
      "/Users/blewis2/anaconda3/lib/python3.7/site-packages/sklearn/preprocessing/data.py:625: DataConversionWarning: Data with input dtype int64, float64 were all converted to float64 by StandardScaler.\n",
      "  return self.partial_fit(X, y)\n",
      "/Users/blewis2/anaconda3/lib/python3.7/site-packages/sklearn/base.py:465: DataConversionWarning: Data with input dtype int64, float64 were all converted to float64 by StandardScaler.\n",
      "  return self.fit(X, y, **fit_params).transform(X)\n"
     ]
    },
    {
     "name": "stdout",
     "output_type": "stream",
     "text": [
      "gb has been fitted.\n"
     ]
    }
   ],
   "source": [
    "# fit and tune with cross-validation\n",
    "fitted_models = {}\n",
    "\n",
    "for name, pipeline in pipelines.items():\n",
    "    # Create cross-validation object from pipeline and hyperparameters\n",
    "    model = GridSearchCV(pipeline, hyperparameters[name], cv=10, n_jobs=-1)\n",
    "    \n",
    "    # Fit model on X_train, y_train\n",
    "    model.fit(X_train, y_train)\n",
    "    \n",
    "    # Store model in fitted_models[name] \n",
    "    fitted_models[name] = model\n",
    "    \n",
    "    # Print '{name} has been fitted'\n",
    "    print(name, 'has been fitted.')\n"
   ]
  },
  {
   "cell_type": "code",
   "execution_count": 24,
   "metadata": {},
   "outputs": [
    {
     "name": "stdout",
     "output_type": "stream",
     "text": [
      "l1 0.8459214501510574\n",
      "l2 0.8459214501510574\n",
      "rf 0.979651679402879\n",
      "gb 0.9765416740714412\n"
     ]
    }
   ],
   "source": [
    "# evaluation metrics\n",
    "for name, model in fitted_models.items():\n",
    "    print(name, model.best_score_)\n"
   ]
  },
  {
   "cell_type": "code",
   "execution_count": 25,
   "metadata": {},
   "outputs": [
    {
     "name": "stdout",
     "output_type": "stream",
     "text": [
      "l1 0.9027979220500826\n",
      "l2 0.902798609111952\n",
      "rf 0.9883690731466678\n",
      "gb 0.9869925446916569\n"
     ]
    },
    {
     "name": "stderr",
     "output_type": "stream",
     "text": [
      "/Users/blewis2/anaconda3/lib/python3.7/site-packages/sklearn/pipeline.py:381: DataConversionWarning: Data with input dtype int64, float64 were all converted to float64 by StandardScaler.\n",
      "  Xt = transform.transform(Xt)\n",
      "/Users/blewis2/anaconda3/lib/python3.7/site-packages/sklearn/pipeline.py:381: DataConversionWarning: Data with input dtype int64, float64 were all converted to float64 by StandardScaler.\n",
      "  Xt = transform.transform(Xt)\n",
      "/Users/blewis2/anaconda3/lib/python3.7/site-packages/sklearn/pipeline.py:381: DataConversionWarning: Data with input dtype int64, float64 were all converted to float64 by StandardScaler.\n",
      "  Xt = transform.transform(Xt)\n",
      "/Users/blewis2/anaconda3/lib/python3.7/site-packages/sklearn/pipeline.py:381: DataConversionWarning: Data with input dtype int64, float64 were all converted to float64 by StandardScaler.\n",
      "  Xt = transform.transform(Xt)\n"
     ]
    }
   ],
   "source": [
    "# calculate AUC for each fitted model\n",
    "for name, model in fitted_models.items():\n",
    "    pred = model.predict_proba(X_test)\n",
    "    pred = [p[1] for p in pred]\n",
    "    \n",
    "    fpr, tpr, thresholds = roc_curve(y_test, pred)\n",
    "    print( name, auc(fpr, tpr) )"
   ]
  },
  {
   "cell_type": "code",
   "execution_count": null,
   "metadata": {},
   "outputs": [],
   "source": []
  }
 ],
 "metadata": {
  "kernelspec": {
   "display_name": "Python 3",
   "language": "python",
   "name": "python3"
  },
  "language_info": {
   "codemirror_mode": {
    "name": "ipython",
    "version": 3
   },
   "file_extension": ".py",
   "mimetype": "text/x-python",
   "name": "python",
   "nbconvert_exporter": "python",
   "pygments_lexer": "ipython3",
   "version": "3.7.1"
  }
 },
 "nbformat": 4,
 "nbformat_minor": 2
}
