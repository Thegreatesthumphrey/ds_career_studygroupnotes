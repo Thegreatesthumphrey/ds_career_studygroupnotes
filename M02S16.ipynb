{
 "cells": [
  {
   "cell_type": "markdown",
   "metadata": {},
   "source": [
    "# STUDY GROUP - M02S16\n",
    "## Working with JSON and XML"
   ]
  },
  {
   "cell_type": "markdown",
   "metadata": {},
   "source": [
    "### Objectives\n",
    "You will be able to:\n",
    "* Understand when to use recursive functions\n",
    "* Understand how to efficiently explore JSON schema\n",
    "* Understand and explain different database types (key-value, document, relational, graph) "
   ]
  },
  {
   "cell_type": "markdown",
   "metadata": {},
   "source": [
    "### Recursion"
   ]
  },
  {
   "cell_type": "markdown",
   "metadata": {},
   "source": [
    "recursion - A recursive function is a function defined in terms of itself via self-referential expressions\n",
    "   * the function will continue to call itself and repeat its behavior until some condition is met to return a result\n",
    "   * common structure made up of two parts: base case and recursive case"
   ]
  },
  {
   "cell_type": "markdown",
   "metadata": {},
   "source": [
    "### Exploring JSON schema"
   ]
  },
  {
   "cell_type": "markdown",
   "metadata": {},
   "source": [
    "* df.keys()\n",
    "* type(df['col'])\n",
    "* len(df['col'])\n",
    "* selective use of for loops"
   ]
  },
  {
   "cell_type": "markdown",
   "metadata": {},
   "source": [
    "### Databases Types"
   ]
  },
  {
   "cell_type": "markdown",
   "metadata": {},
   "source": [
    "* relational: sqlite, mySQL, postreSQL\n",
    "* noSQL:\n",
    "    * key-value: redis\n",
    "    * document: MongoDB \n",
    "        - additional ability to access information within these documents directly\n",
    "    * graph: graphQL, neo4j\n",
    "        - document databases, adding in the concept of relations between documents\n",
    "    * wide column: cassandra\n",
    "        - data in each column can vary from row to row\n",
    "        - data to be distrubted across multiple servers"
   ]
  },
  {
   "cell_type": "markdown",
   "metadata": {},
   "source": []
  }
 ],
 "metadata": {
  "kernelspec": {
   "display_name": "Python 3",
   "language": "python",
   "name": "python3"
  },
  "language_info": {
   "codemirror_mode": {
    "name": "ipython",
    "version": 3
   },
   "file_extension": ".py",
   "mimetype": "text/x-python",
   "name": "python",
   "nbconvert_exporter": "python",
   "pygments_lexer": "ipython3",
   "version": "3.7.1"
  }
 },
 "nbformat": 4,
 "nbformat_minor": 2
}
