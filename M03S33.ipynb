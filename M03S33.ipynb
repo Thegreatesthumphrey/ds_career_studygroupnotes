{
 "cells": [
  {
   "cell_type": "markdown",
   "metadata": {},
   "source": [
    "# STUDY GROUP - M03S33\n",
    "## Support Vector Machines"
   ]
  },
  {
   "cell_type": "markdown",
   "metadata": {},
   "source": [
    "### Objectives\n",
    "\n",
    "You will be able to:\n",
    "* Define/explain a support vector machine\n",
    "* Explain kernel trick\n",
    "* Explain common kernels and applications\n",
    "* Understand different hyperparameters of SVMs\n",
    "* Compare/contrast kNN vs SVM models"
   ]
  },
  {
   "cell_type": "markdown",
   "metadata": {},
   "source": [
    "### Support Vector Machines\n",
    "\n",
    "SVM as generalization of kNN....\n",
    "* we compute similiarity scores for only handful of support vectors rather than every single point\n",
    "* suppport vectors are weighted by \"information gain\" of particular vector\n",
    "How do we compute a similarity score?\n",
    "* dot product as a mapping of one vector onto another --> similarity/overlap\n",
    "What is a max-margin classifier?\n",
    "* classes are well separated, goal is to make margins large as possible\n",
    "What is a soft-margin classifier?\n",
    "* classes are not as well separated, soft margin allows for certain amount of misclassification in boundary drawing\n",
    "What are the primary hyperparameters of SVMs and what do they control?\n",
    "* C - large C favors correct classification over margin size, small C maximizes margin at cost of classifcation accuracy, large C prone to overfit\n",
    "* gamma - determines influence of particular point (i.e. size of kNN bubble), high gamma prone to overfitting\n",
    "What are benefits/costs of SVM models?\n",
    "* costs - computationally expensive, especially for large data, messy data, high C/gamma values \n",
    "* benefits - smaller data sets, robust to noise"
   ]
  },
  {
   "cell_type": "markdown",
   "metadata": {},
   "source": [
    "### Kernels\n",
    "\n",
    "What is the kernel trick? \n",
    "* use transoformations of features to add additional dimensions which are more easily linearly separable compared to original features\n",
    "* choose kernal depending on what data looks like \n",
    "What are the different types of kernals? \n",
    "* sigmoid\n",
    "* Radial Basis Function (RBF)\n",
    "* polynomial\n",
    "* linear\n",
    "* Gaussian"
   ]
  },
  {
   "cell_type": "code",
   "execution_count": null,
   "metadata": {},
   "outputs": [],
   "source": []
  }
 ],
 "metadata": {
  "kernelspec": {
   "display_name": "Python 3",
   "language": "python",
   "name": "python3"
  },
  "language_info": {
   "codemirror_mode": {
    "name": "ipython",
    "version": 3
   },
   "file_extension": ".py",
   "mimetype": "text/x-python",
   "name": "python",
   "nbconvert_exporter": "python",
   "pygments_lexer": "ipython3",
   "version": "3.7.1"
  }
 },
 "nbformat": 4,
 "nbformat_minor": 2
}
