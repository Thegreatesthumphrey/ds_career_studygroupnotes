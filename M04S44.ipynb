{
 "cells": [
  {
   "cell_type": "markdown",
   "metadata": {},
   "source": [
    "# STUDY GROUP - M04S43\n",
    "## CNNs"
   ]
  },
  {
   "cell_type": "markdown",
   "metadata": {},
   "source": [
    "### Objectives\n",
    "\n",
    "You will be able to:\n",
    "* explain how a CNN differs from a regular neural network\n",
    "* describe the advantages of using CNNs for image classification\n",
    "* explain the relationship between convolutions and filters\n",
    "* explain why paddings are used with filters"
   ]
  },
  {
   "cell_type": "markdown",
   "metadata": {},
   "source": [
    "### CNN Structure\n",
    "\n",
    "Why are CNN's especially useful for problems using image data?\n",
    "    * dimensionality reduction through use of filters and pooling, preserves information in manner that allws for efficient processing\n",
    "\n",
    "What is a convolution?\n",
    "    * a filter comparison operation that identfies features across original image, filter used to make confolution\n",
    "filter - 3x3 or 5x5 pattern that is passed over image to find matches\n",
    "\n",
    "How does the number of filters reduce dimensionality?\n",
    "    * matrix multiplication of filter dimensions and image producing similarity score scalar which allows creation of lower dimension vector, i.e. convolution\n",
    "    \n",
    "padding - adds border around original image to allow filter to not miss any pixels\n",
    "\n",
    "stride - number of pixels filter moves as it traverses original image\n",
    "\n",
    "What is the function of pooling/downsampling? \n",
    "    * condenses convolution to reduce dimensionality by using max or average filter over convolution\n",
    "    * pooling filter is smaller than convolutional fiter to allow further condensation\n",
    "    * filter for convolution"
   ]
  },
  {
   "cell_type": "markdown",
   "metadata": {},
   "source": [
    "\n"
   ]
  },
  {
   "cell_type": "markdown",
   "metadata": {},
   "source": []
  }
 ],
 "metadata": {
  "kernelspec": {
   "display_name": "Python 3",
   "language": "python",
   "name": "python3"
  },
  "language_info": {
   "codemirror_mode": {
    "name": "ipython",
    "version": 3
   },
   "file_extension": ".py",
   "mimetype": "text/x-python",
   "name": "python",
   "nbconvert_exporter": "python",
   "pygments_lexer": "ipython3",
   "version": "3.7.1"
  }
 },
 "nbformat": 4,
 "nbformat_minor": 2
}
