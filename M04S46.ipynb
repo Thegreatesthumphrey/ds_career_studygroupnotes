{
 "cells": [
  {
   "cell_type": "markdown",
   "metadata": {},
   "source": [
    "# STUDY GROUP - M04S46\n",
    "## Deep NLP - Sequence Models"
   ]
  },
  {
   "cell_type": "markdown",
   "metadata": {},
   "source": [
    "### Objectives\n",
    "\n",
    "You will be able to:\n",
    "* explain why LSTM/GRU nodes are necessary for deep learning NLP\n",
    "* explain utility of bidirectional models in deep learning NLP"
   ]
  },
  {
   "cell_type": "markdown",
   "metadata": {},
   "source": [
    "### LSTMs & GRUs\n",
    "\n",
    "What is a sequence model? What's an alternate name for a sequence model?\n",
    "- RNN, neural network where the oder of input sequence is important\n",
    "How is the backpropogation of an RNN different from a CNN?\n",
    "- weights adjusted after every new time interval, back propogation through time (BPTT)\n",
    "- increases computational time\n",
    "What problems do LSTMs and GRUs try to solve?\n",
    "- when to remember/when to foget\n",
    "- gradient saturation, explosion, vanishing\n"
   ]
  },
  {
   "cell_type": "markdown",
   "metadata": {},
   "source": [
    "### Bidirectional Sequence Models\n",
    "\n",
    "What problem are BSMs trying to solve?\n",
    "- uncertainty in sequence prediction, time distance between key words that might not get caught by an RNN\n",
    "What are the costs to this approach?\n",
    "- computational expense due to approach from both directions"
   ]
  },
  {
   "cell_type": "markdown",
   "metadata": {},
   "source": [
    "\n"
   ]
  },
  {
   "cell_type": "markdown",
   "metadata": {},
   "source": []
  }
 ],
 "metadata": {
  "kernelspec": {
   "display_name": "Python 3",
   "language": "python",
   "name": "python3"
  },
  "language_info": {
   "codemirror_mode": {
    "name": "ipython",
    "version": 3
   },
   "file_extension": ".py",
   "mimetype": "text/x-python",
   "name": "python",
   "nbconvert_exporter": "python",
   "pygments_lexer": "ipython3",
   "version": "3.7.1"
  }
 },
 "nbformat": 4,
 "nbformat_minor": 2
}
