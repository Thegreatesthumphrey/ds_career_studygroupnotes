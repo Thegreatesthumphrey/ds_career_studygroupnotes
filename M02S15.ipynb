{
 "cells": [
  {
   "cell_type": "markdown",
   "metadata": {},
   "source": [
    "# STUDY GROUP - M02S15\n",
    "## Introduction to ORMs"
   ]
  },
  {
   "cell_type": "markdown",
   "metadata": {},
   "source": [
    "### Objectives\n",
    "You will be able to:\n",
    "* Define database normalization and types of normal forms\n",
    "* Understand how to read and ERD\n",
    "* Explain utility of ORMs\n"
   ]
  },
  {
   "cell_type": "markdown",
   "metadata": {},
   "source": [
    "### Database Normalization"
   ]
  },
  {
   "cell_type": "markdown",
   "metadata": {},
   "source": [
    "Database normalization - the practice of storing data across one or more tables based on the information that data contains to reduce duplication of information\n",
    "   - Why?\n",
    "    1. Minimize duplicate data\n",
    "    2. Minimize data modification issues\n",
    "    3. Simplify queries\n",
    "    \n",
    "**Types of Normal Forms**\n",
    "* 1st Normal Form: All rows have the same number of columns. No column names are repeated.\n",
    "* 2nd Normal Form: Meets the specifications of 1st normal form, plus all column data depends on the entire primary key, and not just part (remember, primary keys can be a composite of 2 or more columns in a table!)\n",
    "* 3rd Normal Form: Meets the specifications of 2nd normal form, plus no column depends on other columns. Each column in the table depends on the primary key, the whole primary key, and nothing but the primary key.\n",
    "\n",
    "Often, you'll need to get data out of databases where it is stored in 3rd normal format, and then denormalize the data you need so that it fits in a single DataFrame we can use for all our data science-y purposes."
   ]
  },
  {
   "cell_type": "markdown",
   "metadata": {},
   "source": [
    "### Join Tables & Associative Entities"
   ]
  },
  {
   "cell_type": "markdown",
   "metadata": {},
   "source": [
    "In order to make JOINs possible, we need an intermediary table called a Join Table. Join Tables act as a bridge between the two entities with the many-to-many relationship that allow us to easily query them for information.\n",
    "\n",
    "Usually Join Tables consist of a Composite Primary Key consisting of the two foreign keys which point to each of the base entities in the relationship."
   ]
  },
  {
   "cell_type": "markdown",
   "metadata": {},
   "source": [
    "### ERDs"
   ]
  },
  {
   "cell_type": "markdown",
   "metadata": {},
   "source": [
    "entity relationship diagram (ERD) - common way for developers to document the structure (schema) of their databases "
   ]
  },
  {
   "cell_type": "markdown",
   "metadata": {},
   "source": [
    "### ORMs"
   ]
  },
  {
   "cell_type": "markdown",
   "metadata": {},
   "source": [
    "object relational mapper (ORM) - program that allows translation of database table into series of object-oriented class objects for easier manipulation\n",
    "* We can easily store the information contained within a row by treating each row as a separate object, with the column values corresponding to attributes for that object. All rows in a given table must have the same columns, which is something we can easily reproduce when creating a class in Python. The hard part is getting our data from a relational database and storing the data needed in an object to work with it in python. Luckily, we have Object Relational Mappers, or ORMs to take care of the heavy lifting for us!\n",
    "\n",
    "Advantages:\n",
    "* make it easy for programmers writing OO code to retrieve information from a database without having to write a bunch of SQL by hand\n",
    "* SQL dialect agnostic programming\n",
    "* much more efficient way to operationalize machine learning products"
   ]
  },
  {
   "cell_type": "code",
   "execution_count": null,
   "metadata": {},
   "outputs": [],
   "source": []
  }
 ],
 "metadata": {
  "kernelspec": {
   "display_name": "Python 3",
   "language": "python",
   "name": "python3"
  },
  "language_info": {
   "codemirror_mode": {
    "name": "ipython",
    "version": 3
   },
   "file_extension": ".py",
   "mimetype": "text/x-python",
   "name": "python",
   "nbconvert_exporter": "python",
   "pygments_lexer": "ipython3",
   "version": "3.7.1"
  }
 },
 "nbformat": 4,
 "nbformat_minor": 2
}
