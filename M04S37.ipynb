{
 "cells": [
  {
   "cell_type": "markdown",
   "metadata": {},
   "source": [
    "# STUDY GROUP - M04S37\n",
    "## Foundations of Natural Language Processing"
   ]
  },
  {
   "cell_type": "markdown",
   "metadata": {},
   "source": [
    "### Objectives\n",
    "\n",
    "You will be able to:\n",
    "* explain how data processing differs for NLP projects\n",
    "* understand best practices for formulating regex expressions\n",
    "* understand use cases of tokenization alternatives such as stemming/lemmatization, ngrams, and MIS"
   ]
  },
  {
   "cell_type": "markdown",
   "metadata": {},
   "source": [
    "### Regular Expressions\n",
    "\n",
    "What are regex used for?\n",
    "    - pattern used to describe text, used to find/capture patterns in text analysis/web scraping\n",
    "\n",
    "**Ranges**\n",
    "\n",
    "Ex. [a-z][0-9]\n",
    "\n",
    "**Classifiers**\n",
    "\n",
    "Ex. /d, /w, /D, /W\n",
    "\n",
    "**Quantifiers**\n",
    "\n",
    "Ex. {3}\n"
   ]
  },
  {
   "cell_type": "code",
   "execution_count": 3,
   "metadata": {},
   "outputs": [
    {
     "data": {
      "text/plain": [
       "['he', 'he', 'he']"
      ]
     },
     "execution_count": 3,
     "metadata": {},
     "output_type": "execute_result"
    }
   ],
   "source": [
    "import re\n",
    "sentence = 'he said that she said \"hello\".'\n",
    "pattern = 'he'\n",
    "p = re.compile(pattern)\n",
    "p.findall(sentence)\n"
   ]
  },
  {
   "cell_type": "markdown",
   "metadata": {},
   "source": [
    "### Feature Engineering for Text Data\n",
    "* Stopword Removal\n",
    "* Frequency Distributions\n",
    "* Stemming and Lemmatization\n",
    "    - Why are stemming/lemmatization necessary?\n",
    "    - Which is more accurate, stemming or lemmatization?\n",
    "* Bigrams, Ngrams, and Mutual Information Score\n",
    "    - Why might ngrams be more useful than word tokens?\n",
    "    - What other measures of similarity does MIS remind you of?"
   ]
  },
  {
   "cell_type": "code",
   "execution_count": null,
   "metadata": {},
   "outputs": [],
   "source": []
  }
 ],
 "metadata": {
  "kernelspec": {
   "display_name": "Python 3",
   "language": "python",
   "name": "python3"
  },
  "language_info": {
   "codemirror_mode": {
    "name": "ipython",
    "version": 3
   },
   "file_extension": ".py",
   "mimetype": "text/x-python",
   "name": "python",
   "nbconvert_exporter": "python",
   "pygments_lexer": "ipython3",
   "version": "3.7.1"
  }
 },
 "nbformat": 4,
 "nbformat_minor": 2
}
