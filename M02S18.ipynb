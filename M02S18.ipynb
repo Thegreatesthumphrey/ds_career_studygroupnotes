{
 "cells": [
  {
   "cell_type": "markdown",
   "metadata": {},
   "source": [
    "# STUDY GROUP - M02S18\n",
    "## HTML, CSS & Web Scraping"
   ]
  },
  {
   "cell_type": "markdown",
   "metadata": {},
   "source": [
    "### Objectives\n",
    "You will be able to:\n",
    "* Understand what HTML and CSS are and why they are complimentary\n",
    "* Understand how to use Beautiful Soup library for web scraping\n",
    "* Discuss web scraping ethics and techniques for not becoming a pariah"
   ]
  },
  {
   "cell_type": "markdown",
   "metadata": {},
   "source": [
    "### HTML"
   ]
  },
  {
   "cell_type": "markdown",
   "metadata": {},
   "source": [
    "HTML (hypertext markup language) - provides STRUCTURE and SEMANTIC MEANING of webpage, DO NOT include logic like most programming languages"
   ]
  },
  {
   "cell_type": "markdown",
   "metadata": {},
   "source": [
    "Every page made up of a head and a body.\n",
    "\n",
    "<!DOCTYPE html>\n",
    "<html>\n",
    "    <head>\n",
    "        <!-- metadata about the HTML document as a whole -->\n",
    "\n",
    "    </head>\n",
    "\n",
    "    <body>\n",
    "        <!-- content of our page will be here! -->\n",
    "\n",
    "    </body>\n",
    "</html>\n",
    "\n",
    "**Comments**\n",
    "<!-- NYC Pizza is world-famous, cheap, and loved by both vermin and human like! -->\n",
    "\n",
    "**Headers**\n",
    "<h1>Dogs!</h1>\n",
    "<h3>Why Dogs are Great</h3>\n",
    "\n",
    "<h6>Different Breeds</h6>\n",
    "\n",
    "**Images**\n",
    "<img src=\"URL_TO_IMAGE\" alt=\"Picture of a Dog\">\n",
    "\n",
    "**Lists**\n",
    "<h5>My Favorite Things in No Particular Order</h5>\n",
    "<ul>\n",
    "    <li>Coffee</li>\n",
    "    <li>Vinyl Records</li>\n",
    "    <li>Pickling</li>\n",
    "</ul>\n",
    "\n",
    "<h5>Top 5 Pizza Places in NYC</h5>\n",
    "<ol>\n",
    "    <li>DiFara Pizza</li>\n",
    "    <li>Lucali's</li>\n",
    "    <li>Sal and Carmine's</li>\n",
    "    <li>Juliana's</li>\n",
    "    <li>Joe's</li>\n",
    "</ol>\n",
    "\n",
    "**Semantic Elements**\n",
    "<div class=\"wrapper\">\n",
    "  <div id=\"header\">\n",
    "     <div id=\"nav\">...</div>\n",
    "  </div>\n",
    "  <div id=\"main\">\n",
    "    <div id=\"music\">\n",
    "      <div id=\"rock\">...</div>\n",
    "      <div id=\"jazz\">...</div>\n",
    "    </div>\n",
    "  </div>\n",
    "  <div id=\"aside\">...</div>\n",
    "  <div id=\"footer\">...</div>\n",
    "</div>\n",
    "Now we'll replace each instance of a div with a semantic element that matches the type of content we want it to contain.\n",
    "\n",
    "<div class=\"wrapper\">\n",
    "  <header>\n",
    "     <nav>...</nav>\n",
    "  </header>\n",
    "  <main>\n",
    "    <section id=\"music\">\n",
    "      <article id=\"rock\">...</article>\n",
    "      <article id=\"jazz\">...</article>\n",
    "    </section>\n",
    "  </main>\n",
    "  <aside>...</aside>\n",
    "  <footer>...</footer>\n",
    "</div>"
   ]
  },
  {
   "cell_type": "markdown",
   "metadata": {},
   "source": [
    "### CSS"
   ]
  },
  {
   "cell_type": "markdown",
   "metadata": {},
   "source": [
    "CSS (Cascading Style Sheets) - tell us how to write rules that define how browsers will present HTML, handles all of the ways we want to customize our content's look and feel from margins and colors, to column-based layout\n",
    "\n",
    "## Selectors\n",
    "/*\n",
    "The CSS comment syntax is text between \"slash-star\" and \"star-slash\"\n",
    "*/\n",
    "\n",
    "/*\n",
    "selects all anchor tag elements in the document (e.g. <a href=\"page-link.html\">Page Link</a>)\n",
    "*/\n",
    "a\n",
    "\n",
    "/*\n",
    "selects all headers of type h3 in the document (e.g. <h3>Type selectors</h3>)\n",
    "*/\n",
    "h3\n",
    "\n",
    "/*\n",
    "selects all paragraph elements in the document (e.g. <p>Type selectors are used\n",
    "to...</p>)\n",
    "*/\n",
    "p\n",
    "\n",
    "### Class Selectors\n",
    "/*\n",
    "select all elements that have the 'important-topic' classname (e.g. <h1 class='important-topic'>\n",
    "and <h1 class='important-topic'>)\n",
    "*/\n",
    ".important-topic\n",
    "\n",
    "/*\n",
    "select all elements that have the 'welcome-message' classname (e.g. <p class='helpful-hint'>\n",
    "and <p class='helpful-hint'>)\n",
    "*/\n",
    ".helpful-hint\n",
    "\n",
    "### ID Selectors \n",
    "/*\n",
    "selects the HTML element with the id 'main-header' (e.g. <h1 id='main-header'>)\n",
    "*/\n",
    "#main-header\n",
    "\n",
    "/*\n",
    "selects the HTML element with the id 'welcome-message' (e.g. <p id='welcome-message'>)\n",
    "*/\n",
    "#welcome-message\n",
    "\n",
    "h1 {\n",
    "  color: blue;\n",
    "  font-family: Georgia;\n",
    "}"
   ]
  },
  {
   "cell_type": "markdown",
   "metadata": {},
   "source": [
    "### Web Scraping with Beautiful Soup"
   ]
  },
  {
   "cell_type": "markdown",
   "metadata": {},
   "source": [
    "\"The Document Object Model (DOM) is a programming interface for HTML and XML documents. It represents the page so that programs can change the document structure, style, and content. The DOM represents the document as nodes and objects. That way, programming languages can connect to the page.\" \n",
    "\n",
    "Beautiful Soup is a Python library designed for quick turnaround projects like screen-scraping. Three features make it powerful:\n",
    "\n",
    "Beautiful Soup provides a few simple methods and Pythonic idioms for navigating, searching, and modifying a parse tree: a toolkit for dissecting a document and extracting what you need. It doesn't take much code to write an application\n",
    "\n",
    "Beautiful Soup automatically converts incoming documents to Unicode and outgoing documents to UTF-8. You don't have to think about encodings, unless the document doesn't specify an encoding and Beautiful Soup can't detect one. Then you just have to specify the original encoding.\n",
    "\n",
    "Beautiful Soup sits on top of popular Python parsers like lxml and html5lib, allowing you to try out different parsing strategies or trade speed for flexibility.\n",
    "\n",
    "### Regex Tutorial \n",
    "\n",
    "https://medium.com/factory-mind/regex-tutorial-a-simple-cheatsheet-by-examples-649dc1c3f285\n",
    "\n",
    "### Web Scraping Ethics\n",
    "The possabilities are nearly endless with what you can do. That said, not all websites will be thrilled with your new prowess. Surfing the web at super human speeds will get you banned from many domains and may violate the terms & conditions of many websites that require login. As such, there are a few considerations you should take along your way.\n",
    "\n",
    "Is there a terms and conditions for using the website?\n",
    "Test your scraping bot on in small samples to debug before scaling to hundreds, thousands or millions of requests.\n",
    "Start thinking about your IP address: getting blacklisted from a website is no fun. Consider using a VPN.\n",
    "Slow your bot down! Add delays along the way with the time package. Specifically, time.sleep(seconds) adds wait time in a program."
   ]
  },
  {
   "cell_type": "markdown",
   "metadata": {},
   "source": []
  },
  {
   "cell_type": "code",
   "execution_count": null,
   "metadata": {},
   "outputs": [],
   "source": []
  }
 ],
 "metadata": {
  "kernelspec": {
   "display_name": "Python 3",
   "language": "python",
   "name": "python3"
  },
  "language_info": {
   "codemirror_mode": {
    "name": "ipython",
    "version": 3
   },
   "file_extension": ".py",
   "mimetype": "text/x-python",
   "name": "python",
   "nbconvert_exporter": "python",
   "pygments_lexer": "ipython3",
   "version": "3.7.1"
  }
 },
 "nbformat": 4,
 "nbformat_minor": 2
}
