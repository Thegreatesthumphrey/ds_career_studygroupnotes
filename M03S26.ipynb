{
 "cells": [
  {
   "cell_type": "markdown",
   "metadata": {},
   "source": [
    "M03S26 - Time Series Modeling"
   ]
  },
  {
   "cell_type": "markdown",
   "metadata": {},
   "source": []
  },
  {
   "cell_type": "markdown",
   "metadata": {},
   "source": [
    "# Objectives\n",
    "\n",
    "* Understand the difference between White Noise Model and a Random Walk Model\n",
    "* Understand the difference between ACF and PACF\n",
    "* Understand the difference between AR and MA models\n",
    "* Undrestand how to combine AR and MA models into ARMA, ARIMA, and SARIMA models"
   ]
  },
  {
   "cell_type": "markdown",
   "metadata": {},
   "source": [
    "# White Noise and Random Walk"
   ]
  },
  {
   "cell_type": "markdown",
   "metadata": {},
   "source": [
    "white noise model - constant mean and variance\n",
    "\n",
    "random walk model - strongly affected by previous values, no constant mean or variance\n",
    "\n",
    "$$Y_t = Y_{t-1} + \\epsilon_t$$"
   ]
  },
  {
   "cell_type": "markdown",
   "metadata": {},
   "source": [
    "# Correlation Functions"
   ]
  },
  {
   "cell_type": "markdown",
   "metadata": {},
   "source": [
    "What does autocorrelation show? - output correlated with itself with a lag over time\n",
    "\n",
    "ACF (autocorrelation function) - function that represents autocorrelation of a time series as a function of the time lag\n",
    "\n",
    "PACF (partial autocorrelation function) - partial correlation of a time series with its own lagged values, controlling for the values of the time series at all shorter lags"
   ]
  },
  {
   "cell_type": "markdown",
   "metadata": {},
   "source": [
    "# Time Series Modeling"
   ]
  },
  {
   "cell_type": "markdown",
   "metadata": {},
   "source": [
    "ARMA (Autoregressive and Moving Average) Modeling - AR is regression on past values, MA is linear combination of past error terms; modeling is a tool for forecasting time series values by regressing the variable on its own lagged (past) values\n",
    "\n",
    "**AR**\n",
    "$$ \\text{Today = constant + slope} \\times \\text{yesterday + noise} $$\n",
    "\n",
    "Or, mathematically:\n",
    "$$Y_t = \\mu + \\phi * Y_{t-1}+\\epsilon_t$$\n",
    "\n",
    "**MA**\n",
    "$$ \\text{Today = Mean + Noise + Slope} \\times \\text{yesterday's noise} $$\n",
    "\n",
    "Or, mathematically:\n",
    "$$Y_t = \\mu +\\epsilon_t + \\theta * \\epsilon_{t-1}$$\n",
    "\n",
    "**ARMA**\n",
    "\n",
    " $$Y_t = \\mu + \\phi_1 Y_{t-1}+\\phi_2 Y_{t-2}+ \\theta \\epsilon_{t-1}+\\epsilon_t$$\n",
    "\n",
    "ARIMA (Integrated ARMA) - detrending as part of the modeling process and work well for data sets with trends but no seasonality\n",
    "\n",
    "SARIMA (Seasonal ARIMA) - allow for both detrending and seasonality as part of the modeling process"
   ]
  },
  {
   "cell_type": "code",
   "execution_count": 2,
   "metadata": {},
   "outputs": [
    {
     "name": "stdout",
     "output_type": "stream",
     "text": [
      "range(0, 2) range(0, 2) range(0, 2)\n"
     ]
    }
   ],
   "source": [
    "p = d = q = range(0, 2)\n",
    "print(p, d, q)"
   ]
  },
  {
   "cell_type": "code",
   "execution_count": 7,
   "metadata": {},
   "outputs": [
    {
     "data": {
      "text/plain": [
       "(1, 0, 1)"
      ]
     },
     "execution_count": 7,
     "metadata": {},
     "output_type": "execute_result"
    }
   ],
   "source": [
    "import warnings\n",
    "warnings.filterwarnings('ignore')\n",
    "#warnings.\n",
    "import itertools\n",
    "import pandas as pd\n",
    "import numpy as np\n",
    "import statsmodels.api as sm\n",
    "import matplotlib.pyplot as plt\n",
    "from matplotlib.pylab import rcParams\n",
    "plt.style.use('ggplot')\n",
    "\n",
    "pdq = list(itertools.product(p, d, q))\n",
    "pdq[5]"
   ]
  },
  {
   "cell_type": "code",
   "execution_count": null,
   "metadata": {},
   "outputs": [],
   "source": []
  }
 ],
 "metadata": {
  "kernelspec": {
   "display_name": "Python 3",
   "language": "python",
   "name": "python3"
  },
  "toc": {
   "base_numbering": 1,
   "nav_menu": {},
   "number_sections": true,
   "sideBar": true,
   "skip_h1_title": false,
   "title_cell": "Table of Contents",
   "title_sidebar": "Contents",
   "toc_cell": false,
   "toc_position": {},
   "toc_section_display": true,
   "toc_window_display": false
  },
  "varInspector": {
   "cols": {
    "lenName": 16,
    "lenType": 16,
    "lenVar": 40
   },
   "kernels_config": {
    "python": {
     "delete_cmd_postfix": "",
     "delete_cmd_prefix": "del ",
     "library": "var_list.py",
     "varRefreshCmd": "print(var_dic_list())"
    },
    "r": {
     "delete_cmd_postfix": ") ",
     "delete_cmd_prefix": "rm(",
     "library": "var_list.r",
     "varRefreshCmd": "cat(var_dic_list()) "
    }
   },
   "types_to_exclude": [
    "module",
    "function",
    "builtin_function_or_method",
    "instance",
    "_Feature"
   ],
   "window_display": false
  }
 },
 "nbformat": 4,
 "nbformat_minor": 2
}
