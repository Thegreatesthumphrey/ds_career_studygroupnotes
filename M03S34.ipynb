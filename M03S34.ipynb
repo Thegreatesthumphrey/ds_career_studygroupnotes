{
 "cells": [
  {
   "cell_type": "markdown",
   "metadata": {},
   "source": [
    "# STUDY GROUP - M03S34\n",
    "## Principal Component Analysis"
   ]
  },
  {
   "cell_type": "markdown",
   "metadata": {},
   "source": [
    "### Objectives\n",
    "\n",
    "You will be able to:\n",
    "* Explain the Curse of Dimensionality\n",
    "* Give intuitive explaination for PCA\n",
    "* Understand relationship of eigenvectors/eigenvalues to principal components\n",
    "* Explain relationship of variance to principal components\n",
    "* Explain potential weaknesses of PCA"
   ]
  },
  {
   "cell_type": "markdown",
   "metadata": {},
   "source": [
    "### Curse of Dimensionality\n",
    "\n",
    "What is the curse of dimensionality? - more dimensions can increase class separation but after a certain point more features decreases model accuracy due to poor sample space coverage of training data\n",
    "\n",
    "What is sample density/sparsity? How is it related to feature dimensionality? - sparsity and dimensionality are directly proportional, as dimensions increase amount of data needed to have same sample space coverage increases exponentially\n",
    "\n",
    "How is variance related to sparsity? - variance is spread of data for a feature, proportional to sparsity. **PCA tries to answer question of how to retain variance (feature information) in higher dimensional spaces with increased sparsity.** "
   ]
  },
  {
   "cell_type": "markdown",
   "metadata": {},
   "source": [
    "### Eigenvectors, Eigenvalues and Principal Component Selection\n",
    "\n",
    "What's the intuition behind PCA? - find best POV in higer space to observe data in lower with maximum variation/information preservation\n",
    "\n",
    "How is that intuition related to eigenvectors and eigenvalues? - principal components are eignevectors, importance is eigenvalue\n",
    "\n",
    "How does the selection of the principal components maximize the preserved variance of the original data? - selecting principal components with highest eigenvalue preserves maximum variance of original data, preserved variance yields higher sample space density and therefore predicitve power\n"
   ]
  },
  {
   "cell_type": "code",
   "execution_count": null,
   "metadata": {},
   "outputs": [],
   "source": []
  }
 ],
 "metadata": {
  "kernelspec": {
   "display_name": "Python 3",
   "language": "python",
   "name": "python3"
  },
  "language_info": {
   "codemirror_mode": {
    "name": "ipython",
    "version": 3
   },
   "file_extension": ".py",
   "mimetype": "text/x-python",
   "name": "python",
   "nbconvert_exporter": "python",
   "pygments_lexer": "ipython3",
   "version": "3.7.1"
  }
 },
 "nbformat": 4,
 "nbformat_minor": 2
}
