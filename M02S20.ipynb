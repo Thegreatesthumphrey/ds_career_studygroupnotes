{
 "cells": [
  {
   "cell_type": "markdown",
   "metadata": {},
   "source": [
    "# STUDY GROUP - M02S20\n",
    "## Hypothesis & A/B Testing"
   ]
  },
  {
   "cell_type": "markdown",
   "metadata": {},
   "source": [
    "### Objectives\n",
    "You will be able to:\n",
    "* Understand and explain why experimental design is **SO IMPORTANT** to data scientists\n",
    "* Understand and explain the differences and relationship between Type I and Type II errors\n",
    "* Understand and explain effect of sample size on error\n",
    "* Understand how to correct for spurious correlations\n",
    "* Explain steps involved in designing an A/B Test\n",
    "* Understand and explain problems with Goodhart's Law and metric tracking and how that impacts your work as a data scientist\n"
   ]
  },
  {
   "cell_type": "markdown",
   "metadata": {},
   "source": [
    "### Experimental Design"
   ]
  },
  {
   "cell_type": "markdown",
   "metadata": {},
   "source": [
    "#### Effect Size\n",
    "Effect size measurement places its emphasis on the effect size only, unlike statistical significance which combines effect size and sample size, thus promoting a more scientific approach towards knowledge accumulation. Effect size is therefore routinely used towards **Meta-Analysis** i.e. for combining and comparing estimates from different studies conducted on different samples.\n",
    "\n",
    "In data analytics domain, effect size calculation serves three primary goals:\n",
    "\n",
    "1. Communicate practical significance of results. An effect might be statistically significant, but does it matter in practical scenarios ?\\\n",
    "2. Effect size calculation and interpretation allows you to draw Meta-Analytical conclusions. This allows you to group together a number of existing studies, calculate the meta-analytic effect size and get the best estimate of the true effect size of the population.\n",
    "3. Perform Power Analysis , which help determine the number of particicpants (sample size) that a study would require to achieve a certain probability of finding a true effect - if there is one.\n",
    "\n",
    "**Simple Effect Size Calculation**\n",
    "1. Difference of Means\n",
    "\n",
    "For some applications, that would be a good way to describe the difference, but there are caveats:\n",
    "\n",
    "    a. Without knowing more about the distributions (like the standard deviations or spread of each distribution) it's hard to interpret whether a difference like 15 cm is a big difference or not.\n",
    "    \n",
    "    b. The magnitude of the difference depends on the units of measure, making it hard to compare across different studies that may be conducted with different units of measurement.\n",
    "    \n",
    "2. Percentage of Mean\n",
    "\n",
    "But a problem with relative differences is that you have to choose which mean to express them relative to.\n",
    "\n",
    "3. Probability of Superiority\n",
    "\n",
    "def - probability that a randomly-chosen member of group 1 is larger/smaller than a randomly-chosen member of group 2\n",
    "\n",
    "Overlap (or misclassification rate) as shown above, and \"probability of superiority\" have two good properties:\n",
    "\n",
    "    a. As probabilities, they don't depend on units of measure, so they are comparable between studies.\n",
    "    \n",
    "    b. They are expressed in operational terms, so a reader has a sense of what practical effect the difference makes.\n",
    "\n",
    "4. Standardized Difference of Means\n",
    "\n",
    "**Cohen's d**\n",
    "def - measure expresses the size of an effect as a number standard deviations, similar to a z-score in statistics\n",
    "\n",
    "Cohen’s D is one of the most common ways to measure effect size. As an effect size, Cohen's d is typically used to represent the magnitude of differences between two (or more) groups on a given variable, with larger values representing a greater differentiation between the two groups on that variable. Cohen’s d is similar to the unpaired t test t value. It relies on Standard Deviations instead of Standard Errors\n",
    "\n",
    "The basic formula to calculate Cohen’s  d  is:\n",
    "\n",
    "d  = effect size (difference of means) / pooled standard deviation\n",
    "\n",
    "Use these general “rule of thumb” guidelines (which Cohen said should be used cautiously):\n",
    "\n",
    "Small effect = 0.2\n",
    "Medium Effect = 0.5\n",
    "Large Effect = 0.8\n",
    "\n",
    "Cohen's  d  has a few nice properties:\n",
    "\n",
    "* Because mean and standard deviation have the same units, their ratio is dimensionless, so we can compare  d  across different studies.\n",
    "* In fields that commonly use  d, people are calibrated to know what values should be considered big, surprising, or important.\n",
    "* Given  d (and the assumption that the distributions are normal), you can compute overlap, superiority, and related statistics.\n",
    "\n",
    "#### Type I and Type II Errors\n",
    "type I error - classifying something as significant when it is not; when we reject the null hypothesis,  H0 , when it is actually true; probability of a type I error occuring is denoted by  α\n",
    "\n",
    "type II error - classifying somethign as not significant when it is; when we accept the null hypothesis,  H0 , when it is actually false; probability of a type II error occuring is denoted by  β\n",
    "\n",
    "* These two errors have a direct relation to each other; reducing type 1 errors will increase type 2 errors and vice versa.\n",
    "#### Statistical Power\n",
    "The power of a statistical test is defined as the probability of rejecting the null hypothesis, given that it is indeed false. As with any probability, the power of a statistical test therefore ranges from 0 to 1, with 1 being a perfect test that gaurantees rejecting the null hypothesis when it is indeed false.\n",
    "   * power of this statistical test would thus depend on several factors including our p-value threshold for rejecting the null hypothesis, the size of our sample and the 'level of unfairness' of the coin in question.\n"
   ]
  },
  {
   "cell_type": "code",
   "execution_count": 1,
   "metadata": {},
   "outputs": [],
   "source": [
    "import numpy as np\n",
    "import scipy.stats as st\n",
    "import matplotlib.pyplot as plt\n",
    "import seaborn as sns \n",
    "sns.set_style('darkgrid')\n",
    "%matplotlib inline"
   ]
  },
  {
   "cell_type": "code",
   "execution_count": 5,
   "metadata": {},
   "outputs": [
    {
     "data": {
      "text/plain": [
       "Text(0.5, 0, 'Number of Coin Flips')"
      ]
     },
     "execution_count": 5,
     "metadata": {},
     "output_type": "execute_result"
    },
    {
     "data": {
      "image/png": "[encoded data removed]",
      "text/plain": [
       "<Figure size 432x288 with 1 Axes>"
      ]
     },
     "metadata": {
      "needs_background": "light"
     },
     "output_type": "display_data"
    }
   ],
   "source": [
    "#What does the power increase as we increase sample size?\n",
    "powers = []\n",
    "cutoff = .99 #Set the p-value threshold for rejecting the null hypothesis\n",
    "#Iterate through various sample sizes\n",
    "unfair_coin_prob = .8\n",
    "for n in range(1,50):\n",
    "    #Do multiple runs for that number of samples to compare\n",
    "    p_val = []\n",
    "    for i in range(200):\n",
    "        n_heads = np.random.binomial(n, unfair_coin_prob)\n",
    "        mu = n / 2\n",
    "        sigma = np.sqrt(n*.5*(1-.5))\n",
    "        z  = (n_heads - mu) / (sigma / np.sqrt(n))\n",
    "        p_val.append(st.norm.cdf(np.abs(z)))\n",
    "    cur_power = sum([1 if p >= cutoff else 0 for p in p_val])/200\n",
    "    powers.append(cur_power)\n",
    "plt.plot(list(range(1,50)), powers)\n",
    "plt.title('Power of Statistical Tests of a .75 Unfair Coin by Number of Trials using .95 threshold')\n",
    "plt.ylabel('Power')\n",
    "plt.xlabel('Number of Coin Flips')"
   ]
  },
  {
   "cell_type": "markdown",
   "metadata": {},
   "source": [
    "#### Multiple Comparisons\n",
    "\"correlation does not equal causation\"\n",
    "Correlation tells us that there seems to be some sort of mathematical relationship between the values of two different things. Sometimes, two things that seem to be correlated aren't actually correlated--it just happens to look that way due to the random nature of our dataset. Although the data may suggest that two things are correlated, we know that there is no actual relationship between them. We call these sorts of \"false\" correlations **Spurious Correlation**.\n",
    "\n",
    "Spurious correlation is a Type 1 Error, meaning that it's a type of False Positive. We think we've found something important, when really there isn't. However, when we make Mulitple Comparisons by checking for many things at once, each of small risks of a Type 1 Error become cumulative! The main way we can avoid the cumulative effect of Type 1 errors is through the use of statistical corrections such as the **Bonferroni Correction**. To do this, we just divide our  α  value by the number of comparisons we are making to set a new, adjusted threshold rejecting the null hypothesis.\n",
    "\n",
    "#### A/B Testing\n",
    "1. Set H0 and Ha\n",
    "2. Determine appropriate sample size to limit type I and type II errors to an acceptable level\n",
    "\n",
    "With our current formulation of a hypothesis test, we can determine the necessary sample size for a desired $\\alpha$ and $\\beta$ combination. \n",
    "\n",
    "## $n=\\frac{(z_\\alpha+z_\\beta)^2\\sigma^2}{(\\mu_1-\\mu_0)^2}$\n"
   ]
  },
  {
   "cell_type": "code",
   "execution_count": 3,
   "metadata": {},
   "outputs": [
    {
     "data": {
      "text/plain": [
       "1352.9736077635823"
      ]
     },
     "execution_count": 3,
     "metadata": {},
     "output_type": "execute_result"
    }
   ],
   "source": [
    "import scipy.stats as st\n",
    "\n",
    "def compute_n(alpha, beta, mu_0, mu_1, var):\n",
    "    z_alpha = st.norm.ppf(alpha)\n",
    "    z_beta = st.norm.ppf(beta)\n",
    "    num = ((z_alpha+z_beta)**2)*var\n",
    "    den = (mu_1 - mu_0)**2\n",
    "    return num/den\n",
    "\n",
    "alpha = .01 #Part of A/B test design\n",
    "beta = .01 #Part of A/B test design\n",
    "mu_0 = .76 #Part of A/B test design\n",
    "mu_1 = .8 #Part of A/B test design\n",
    "var = .1 #sample variance\n",
    "\n",
    "compute_n(alpha, beta, mu_0, mu_1, var)"
   ]
  },
  {
   "cell_type": "markdown",
   "metadata": {},
   "source": [
    "#### Goodhart's Law & Metric Tracking\n",
    "Goodhart's Law: \n",
    "\"Any observed statistical regularity will tend to collapse once pressure is placed upon it for control purposes.\" --Charles Goodhart\n",
    "\n",
    "In plain English, this translates to:\n",
    "\n",
    "\"Any measure which becomes a target ceases to be an effective measure!\"\n",
    "\n",
    "Examples: cobra skin bounties, standardized testing "
   ]
  }
 ],
 "metadata": {
  "kernelspec": {
   "display_name": "Python 3",
   "language": "python",
   "name": "python3"
  },
  "language_info": {
   "codemirror_mode": {
    "name": "ipython",
    "version": 3
   },
   "file_extension": ".py",
   "mimetype": "text/x-python",
   "name": "python",
   "nbconvert_exporter": "python",
   "pygments_lexer": "ipython3",
   "version": "3.7.1"
  }
 },
 "nbformat": 4,
 "nbformat_minor": 2
}
