{
 "cells": [
  {
   "cell_type": "markdown",
   "metadata": {},
   "source": [
    "# STUDY GROUP - M02S17\n",
    "## Accessing Data Through APIs"
   ]
  },
  {
   "cell_type": "markdown",
   "metadata": {},
   "source": [
    "### Objectives\n",
    "You will be able to:\n",
    "* Understand what an API is and why they are so essential to the function of the internet\n",
    "* Understand how to use the request library in python to make API calls\n",
    "* Understand function of authentication in API calls and OAuth "
   ]
  },
  {
   "cell_type": "markdown",
   "metadata": {},
   "source": [
    "### What is an API?"
   ]
  },
  {
   "cell_type": "markdown",
   "metadata": {},
   "source": [
    "API (Application Programming Interface) - communication protocol between 2 software systems\n",
    "* describes the mechanism through which, if one system requests some information using a pre-defined format, a remote system responds with an outcome that gets sent back to the first system."
   ]
  },
  {
   "cell_type": "markdown",
   "metadata": {},
   "source": [
    "An API has three main components as listed below:\n",
    "\n",
    "* Access Permissions: Is the user allowed to ask for data or services?\n",
    "   \n",
    "* Request: The service being asked for (e.g., if I give you current location using GPS, tell me the map around that place - as we see in Pokemon Go). A Request has two main parts:\n",
    "\n",
    "    1. Methods: Once the access is permitted, what questions can be asked.\n",
    "\n",
    "    2. Parameters: Additional details that can be sent with requests or responses\n",
    "\n",
    "* Response: The data or service as a result of the request."
   ]
  },
  {
   "cell_type": "markdown",
   "metadata": {},
   "source": [
    "### API Types"
   ]
  },
  {
   "cell_type": "markdown",
   "metadata": {},
   "source": [
    "- web based\n",
    "- OS based\n",
    "- database\n",
    "- hardware\n"
   ]
  },
  {
   "cell_type": "markdown",
   "metadata": {},
   "source": [
    "### Authorization & OAuth"
   ]
  },
  {
   "cell_type": "markdown",
   "metadata": {},
   "source": [
    "We'll go through the HTTP code along and parts of the Yelp! codealong to cover how to use OAuth and navigate API documentation"
   ]
  },
  {
   "cell_type": "markdown",
   "metadata": {},
   "source": [
    "* authorization/scope helps keep things secure and keeps information more secure by allowing limited access that doesn't require us/pw"
   ]
  },
  {
   "cell_type": "code",
   "execution_count": null,
   "metadata": {},
   "outputs": [],
   "source": []
  }
 ],
 "metadata": {
  "kernelspec": {
   "display_name": "Python 3",
   "language": "python",
   "name": "python3"
  },
  "language_info": {
   "codemirror_mode": {
    "name": "ipython",
    "version": 3
   },
   "file_extension": ".py",
   "mimetype": "text/x-python",
   "name": "python",
   "nbconvert_exporter": "python",
   "pygments_lexer": "ipython3",
   "version": "3.7.1"
  }
 },
 "nbformat": 4,
 "nbformat_minor": 2
}
